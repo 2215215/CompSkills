{
 "cells": [
  {
   "cell_type": "code",
   "execution_count": 5,
   "id": "e73b3444",
   "metadata": {},
   "outputs": [
    {
     "name": "stdout",
     "output_type": "stream",
     "text": [
      "Generated PIN: 226\n",
      "Enter your PIN: 226\n",
      "Correct PIN\n"
     ]
    }
   ],
   "source": [
    "import random\n",
    "\n",
    "# generate a random 3-digit PIN\n",
    "pin = random.randint(100, 999)\n",
    "print(\"Generated PIN:\", pin)\n",
    "\n",
    "# function to check if input matches the generated PIN\n",
    "def check_pin(user_input):\n",
    "    if user_input == pin:\n",
    "        print(\"Correct PIN\")\n",
    "    else:\n",
    "        print(\"Incorrect PIN\")\n",
    "\n",
    "# check user input against the generated PIN\n",
    "user_input = int(input(\"Enter your PIN: \"))\n",
    "check_pin(user_input)\n",
    "\n"
   ]
  },
  {
   "cell_type": "code",
   "execution_count": 6,
   "id": "ee41db74",
   "metadata": {},
   "outputs": [
    {
     "name": "stdout",
     "output_type": "stream",
     "text": [
      "PIN found: 226\n"
     ]
    }
   ],
   "source": [
    "# function to restore the pin by brute force\n",
    "def restore_pin():\n",
    "    for i in range(100, 1000):\n",
    "        if i == pin:\n",
    "            print(\"PIN found:\", i)\n",
    "            return\n",
    "    print(\"PIN not found.\")\n",
    "\n",
    "# restore the pin\n",
    "restore_pin()\n"
   ]
  },
  {
   "cell_type": "code",
   "execution_count": null,
   "id": "58caa015",
   "metadata": {},
   "outputs": [],
   "source": [
    "#The script first generates a random 3-digit PIN using the random.randint() function. \n",
    "#This function generates a random integer between the range 100 and 999 (inclusive). \n",
    "#This integer is stored in the variable pin. \n",
    "#The script then prints the generated PIN so that you can see what it is.\n",
    "\n",
    "#The script then defines a function restore_pin() \n",
    "#which iterates through all possible 3-digit integers (between 100 and 999) using a for loop and the range() function. \n",
    "#For each iteration, the function checks if the current integer matches the generated PIN using an if statement. \n",
    "#If the integer matches the PIN\n",
    "#The function prints \"PIN found\" and the number, and then uses the return statement to exit the function. \n",
    "#If the loop completes and the PIN is not found, the function prints \"PIN not found\".\n",
    "\n",
    "#Finally, the script calls the restore_pin() function to restore the PIN.\n",
    "\n",
    "#It's worth noting that this is a brute force approach, \n",
    "#which means it will check all possible PIN numbers one by one until it finds the correct one. \n",
    "#This can be slow and computationally expensive, especially if you have a large number of PINs. \n",
    "#There are other approaches like using a hash function to store the PIN and compare the hash value, or using a database to store the PIN and compare the inputs."
   ]
  },
  {
   "cell_type": "code",
   "execution_count": null,
   "id": "808aacbe",
   "metadata": {},
   "outputs": [],
   "source": [
    "#This can be very useful for example as an added security measure\n",
    "#when logging in you could send an email to a user with a 3 digit pin\n",
    "#They would have to enter on a university or work log in to access their accounts"
   ]
  }
 ],
 "metadata": {
  "kernelspec": {
   "display_name": "Python 3 (ipykernel)",
   "language": "python",
   "name": "python3"
  },
  "language_info": {
   "codemirror_mode": {
    "name": "ipython",
    "version": 3
   },
   "file_extension": ".py",
   "mimetype": "text/x-python",
   "name": "python",
   "nbconvert_exporter": "python",
   "pygments_lexer": "ipython3",
   "version": "3.10.7"
  }
 },
 "nbformat": 4,
 "nbformat_minor": 5
}
