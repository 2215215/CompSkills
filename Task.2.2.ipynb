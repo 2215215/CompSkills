{
 "cells": [
  {
   "cell_type": "code",
   "execution_count": 1,
   "id": "7a14df06",
   "metadata": {},
   "outputs": [
    {
     "name": "stdout",
     "output_type": "stream",
     "text": [
      "a 1 : 12\n",
      "a 2 : 62\n",
      "a 3 : 312\n",
      "a 4 : 1562\n",
      "a 5 : 7812\n"
     ]
    }
   ],
   "source": [
    "def recursive_relationship(n):\n",
    "    a_n = 2 #initial value\n",
    "    for i in range(1,n+1):\n",
    "        a_n = 5*a_n + 2 #recursive relation\n",
    "        print(\"a\",i,\":\",a_n) # print the term\n",
    "        \n",
    "n = int(input(\"Enter the value of n: \")) #take input from user\n",
    "recursive_relationship(n) # call the function with n as the input\n"
   ]
  },
  {
   "cell_type": "code",
   "execution_count": null,
   "id": "5dccd248",
   "metadata": {},
   "outputs": [],
   "source": []
  }
 ],
 "metadata": {
  "kernelspec": {
   "display_name": "Python 3",
   "language": "python",
   "name": "python3"
  },
  "language_info": {
   "codemirror_mode": {
    "name": "ipython",
    "version": 3
   },
   "file_extension": ".py",
   "mimetype": "text/x-python",
   "name": "python",
   "nbconvert_exporter": "python",
   "pygments_lexer": "ipython3",
   "version": "3.10.7 (v3.10.7:6cc6b13308, Sep  5 2022, 14:02:52) [Clang 13.0.0 (clang-1300.0.29.30)]"
  },
  "vscode": {
   "interpreter": {
    "hash": "aee8b7b246df8f9039afb4144a1f6fd8d2ca17a180786b69acc140d282b71a49"
   }
  }
 },
 "nbformat": 4,
 "nbformat_minor": 5
}
